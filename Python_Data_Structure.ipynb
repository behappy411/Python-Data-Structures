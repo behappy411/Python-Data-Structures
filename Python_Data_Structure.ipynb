{
  "nbformat": 4,
  "nbformat_minor": 0,
  "metadata": {
    "colab": {
      "provenance": []
    },
    "kernelspec": {
      "name": "python3",
      "display_name": "Python 3"
    },
    "language_info": {
      "name": "python"
    }
  },
  "cells": [
    {
      "cell_type": "markdown",
      "source": [
        "1. What are data structures, and why are they important?\n",
        "   - Data structures are specialized formats for organizing, storing, and accessing collections of data. They provide efficient ways to manage information based on its characteristics and intended use.\n",
        "\n",
        "     Data structures as containers that hold your data and determine how you can interact with it. Different containers are better suited for different types of items.\n",
        "\n",
        "     Why are they important?\n",
        "     * Choosing the right data structure significantly impacts the efficiency and performance of your program.\n",
        "     * Simplify data manipulation (adding, removing, modifying elements).\n",
        "     * Optimize searching and sorting operations.\n",
        "     * Conserve memory usage.\n",
        "\n",
        "\n",
        "2. Explain the difference between mutable and immutable data types with examples\n",
        "   - In Python, mutability refers to whether an object's value can be changed after it is created, if object's value doesn't change refer to immutable.\n",
        "\n",
        "   Mutable Data Types:\n",
        "   Their values can be modified after creation.Operations on mutable objects affect the original object. Examples: Lists, Dictionaries, Sets.   \n",
        "\n",
        "   Immutable Data Types:\n",
        "   Their values cannot be changed once assigned. Any modification results in a new object, not an in-place change. Examples: Strings, Tuples, Numbers, Frozen sets.\n",
        "\n",
        "\n",
        "3. What are the main differences between lists and tuples in Python?   \n",
        "   - List:\n",
        "      * Mutable(value can be changed after creation.)\n",
        "      * Syntax: define with [].\n",
        "      * Performance: slower as compared to tuple.\n",
        "      * Memory usage: use more as compared to tuple.\n",
        "      * Use cases: used when items needs modification(e.g., dynamic lists).\n",
        "\n",
        "     Tuple:\n",
        "      * Immutable(value can't be changed after creation.)\n",
        "      * Syntax: define with ().\n",
        "      * Performance: faster as compared to list.\n",
        "      * Memory usage: use less as compared to list.\n",
        "      * Use cases: used when items needs modification(e.g., configuration settings).\n",
        "\n",
        "\n",
        "4. Describe how dictionaries store data.\n",
        "   - Dictionaries in Python store data using key-value pairs, making them an efficient way to organize and retrieve information.\n",
        "\n",
        "     How Dictionaries Work:\n",
        "     * Keys: Unique identifiers used to access values.\n",
        "     * Values: The actual data associated with each key.\n",
        "     * Hashing: Internally, Python uses a hash table to store dictionary entries, allowing fast lookups.\n",
        "\n",
        "\n",
        "5. Why might you use a set instead of a list in Python?\n",
        "   - A set in Python is often used instead of a list when you need unique elements and fast membership checks.\n",
        "\n",
        "     Advantages of Using a Set Over a List:\n",
        "     * No Duplicates: Sets automatically remove duplicate values.\n",
        "     * Fast Membership Testing (in Operator): Sets use hashing, making lookups much faster than lists (O(1) vs. O(n)).\n",
        "     * Efficient Mathematical Operations: Sets support operations like union, intersection, difference easily.\n",
        "\n",
        "\n",
        "6. What is a string in Python, and how is it different from a list?\n",
        "   -  A string in Python is an immutable sequence of characters, meaning once created, it cannot be modified. Strings are often used to store text-based data.\n",
        "   \n",
        "     String:\n",
        "      * Immutable(value can't be changed.)\n",
        "      * Syntax: define with quotes 'Hello'.\n",
        "      * Performance: more memory-efficient due to immutablility.\n",
        "      * Elements: only characters.\n",
        "\n",
        "     list:\n",
        "      * Mutable(value can be changed.)\n",
        "      * Syntax: define with [].\n",
        "      * Performance: use more memory due to mutability.\n",
        "      * Elements: heterogeneous elements.  \n",
        "\n",
        "\n",
        "7. How do tuples ensure data integrity in Python?\n",
        "   - Tuples ensure data integrity in Python because they are immutable, meaning their values cannot be changed after creation.\n",
        "\n",
        "   This immutability offers several key benefits:\n",
        "    * Prevents Accidental Modification: Once a tuple is created, its elements cannot be altered, reducing unintended changes in critical data.\n",
        "    * Enhances Data Consistency: Tuples are useful in situations where data must remain unchanged throughout program execution, such as storing constants.\n",
        "    * Enables Safe Data Sharing: Since tuples cannot be modified, they are ideal for passing data between functions without worrying about unexpected alterations.\n",
        "    * Improves Performance: Tuples consume less memory and offer faster iteration compared to lists, making them efficient for large datasets where integrity is important.\n",
        "    * Supports Hashing for Reliable Storage: Tuples can be dictionary keys, allowing for structured storage without modification risks.\n",
        "\n",
        "   Use Case- Configuration & Immutable Data Sets:\n",
        "    * Fixed settings (screen resolutions, API keys).\n",
        "    * Database records (row data).\n",
        "    * Safe passing of values between functions.\n",
        "\n",
        "\n",
        "8. What is a hash table, and how does it relate to dictionaries in Python?\n",
        "   - A hash table is a data structure that stores key-value pairs and enables fast retrieval of values using a hashing function. It's designed for efficient lookups, insertions, and deletions, making it ideal for large datasets.\n",
        "   \n",
        "     How Hash Tables Work:\n",
        "     * Keys are processed by a hash function: This function converts a key into a unique index (or hash) in a storage array.\n",
        "     * Values are stored at that index: Instead of searching through all elements, the value is accessed directly.\n",
        "     * Collisions are handled: If two keys generate the same hash, Python resolves conflicts using techniques like chaining or open addressing.\n",
        "\n",
        "     How Dictionaries in Python Use Hash Tables:\n",
        "     Python's dict is implemented using a hash table, meaning:\n",
        "     * Fast lookups: Searching for a key has an average time complexity of O(1).\n",
        "     * Efficient storage: Values are stored based on their hashed keys.\n",
        "     * Uniqueness enforced: Keys must be unique, preventing duplicate entries.\n",
        "\n",
        "     Advantages of Hash Tables in Dictionaries:\n",
        "     * Speed: Much faster than searching through lists.\n",
        "     * Flexibility: Can store diverse types of data as values.\n",
        "     * Scalability: Works well with large datasets.\n",
        "\n",
        "\n",
        "9. Can lists contain different data types in Python?\n",
        "   - Yes In Python, lists can contain different data types within the same collection. This flexibility allows you to store numbers, strings, booleans, and even other lists or objects together.\n",
        "\n",
        "\n",
        "10. Explain why strings are immutable in Python?\n",
        "    - Strings in Python are immutable, meaning their contents cannot be changed after they are created.\n",
        "\n",
        "     Why Are Strings Immutable?   \n",
        "     * Memory Efficiency & String Interning:\n",
        "       * Python internally optimizes strings by reusing identical ones to save memory.\n",
        "       * Since strings cannot change, Python avoids creating unnecessary duplicates.\n",
        "     * Avoids Unexpected Side Effects:\n",
        "       * If strings were mutable, modifying one string would accidentally affect others referencing it.  \n",
        "     * Hashability & Use in Dictionaries:\n",
        "       * Immutable objects can be hashed, allowing strings to be used as dictionary keys.  \n",
        "     * Security & Thread Safety:\n",
        "       * Immutable objects prevent unwanted modifications in multi-threaded applications.\n",
        "       * Useful in scenarios where text values must remain unchanged (e.g., encryption keys).  \n",
        "\n",
        "     * Key Takeaways:\n",
        "       * Strings are immutable for efficiency, reliability, and security.\n",
        "       * To modify a string, you must create a new one.\n",
        "\n",
        "\n",
        "11. What advantages do dictionaries offer over lists for certain tasks?\n",
        "    - Dictionaries in Python offer several advantages over lists, especially when working with key-value mappings, fast lookups, and structured data storage. Dictionaries provide instant access to values without iteration.\n",
        "\n",
        "     Key Advantages of Dictionaries Over Lists:\n",
        "     * Lookup Speed: Fast (O(1) average) using keys, while list has slow(O(n)) as it searches sequentially.\n",
        "     * Key-Based Access:\tDirect access using keys (dict[\"name\"]), while list must search by index(list[0]) or iterate.\n",
        "     * Uniqueness:\tDictionary enforces unique keys (avoids duplicates), while list\tAllows duplicate values.\n",
        "     * Structured Data:\tDictionary stores data in a logical key-value format, while list\tStores individual values sequentially.\n",
        "     * Flexibility:\tDictionary Works well for mapping relationships (e.g., user profiles), while list\tBetter for ordered collections like lists of items.\n",
        "\n",
        "     When to Use Dictionaries vs. Lists:\n",
        "     * Use dictionaries when data needs to be quickly searched using keys.\n",
        "     * Use lists when maintaining an ordered collection or performing sequential operations.\n",
        "\n",
        "\n",
        "12.  Describe a scenario where using a tuple would be preferable over a list.\n",
        "     - A tuple is preferable over a list when you need a fixed, unchangeable collection of values that should remain constant throughout the program.\n",
        "\n",
        "      Why Use a Tuple?\n",
        "      * Ensures data integrity—prevents accidental modification.\n",
        "      * Memory efficiency—tuples consume less memory than lists.\n",
        "      * Supports hashing—can be used as dictionary keys.\n",
        "\n",
        "      Scenario: Storing GPS Coordinates - working on a navigation system that handles latitude and longitude coordinates. Since these values represent a specific location and should not be altered, a tuple is the better choice.\n",
        "      If we used a list instead, someone might unintentionally modify the coordinates, leading to errors.     \n",
        "\n",
        "\n",
        "13. How do sets handle duplicate values in Python?\n",
        "    - In Python, sets automatically remove duplicate values, ensuring that each element is unique.\n",
        "\n",
        "     How Sets Handle Duplicates:\n",
        "     * When you add elements to a set, Python internally checks for duplicates and eliminates them.\n",
        "     * If duplicate values are provided, only one instance of each unique element is retained.\n",
        "\n",
        "     Why This Is Useful?\n",
        "     * Prevents redundancy in data storage.\n",
        "     * Speeds up membership checks (in operator works efficiently).\n",
        "     * Simplifies operations like filtering unique values from a list.      \n",
        "\n",
        "\n",
        "14. How does the “in” keyword work differently for lists and dictionaries?\n",
        "    - The \"in\" keyword in Python checks for membership—but it behaves differently in lists and dictionaries based on how these structures store data.\n",
        "\n",
        "     Using \"in with Lists:\n",
        "     * Checks if a value exists within the list.\n",
        "     * Python searches element by element (O(n) time complexity).\n",
        "\n",
        "     Using in with Dictionaries:\n",
        "     * Checks if a key exists, NOT values.\n",
        "     * Much faster (O(1) average time complexity) because dictionaries use hash tables.\n",
        "\n",
        "     Key Difference:\n",
        "     * Lists: Searches for elements directly.\n",
        "     * Dictionaries: Searches only for keys, NOT values.\n",
        "\n",
        "\n",
        "15. Can you modify the elements of a tuple? Explain why or why not.\n",
        "    - No, we cannot modify the elements of a tuple in Python because tuples are immutable. Once a tuple is created, its elements cannot be changed, added, or removed.   \n",
        "\n",
        "     How Can We \"Modify\" a Tuple Indirectly?\n",
        "     - Since direct modification isn't possible, you must create a new tuple.\n",
        "       e.g., old_tuple = (1, 2, 3)\n",
        "             new_tuple = (10,) + old_tuple[1:]  # Creates a new tuple\n",
        "             print(new_tuple)  # Output: (10, 2, 3)\n",
        "\n",
        "\n",
        "16. What is a nested dictionary, and give an example of its use case?\n",
        "    - A nested dictionary is a dictionary inside another dictionary. It allows hierarchical storage of key-value pairs, making it useful for organizing structured data efficiently.\n",
        "\n",
        "     Example Use Case: Storing Student Records- Imagine you're managing a database where each student has multiple attributes like name, age, and grades. A nested dictionary helps keep related data grouped.\n",
        "     e.g., students = {\n",
        "                       \"Student1\": {\"name\": \"Happy\", \"age\": 25, \"grades\": {\"math\": 90, \"science\": 85}},\n",
        "                       \"Student2\": {\"name\": \"Alex\", \"age\": 22, \"grades\": {\"math\": 88, \"science\": 80}}\n",
        "                      }\n",
        "\n",
        "           # Accessing nested values\n",
        "           print(students[\"Student1\"][\"name\"])   # Output: Happy\n",
        "           print(students[\"Student1\"][\"grades\"][\"math\"])  # Output: 90\n",
        "\n",
        "     Why Use Nested Dictionaries?\n",
        "     * Organizes complex data in a structured way.\n",
        "     * Allows easy retrieval using key-based access.\n",
        "     * Useful for real-world applications like databases, JSON parsing, and configuration settings.\n",
        "\n",
        "\n",
        "17. Describe the time complexity of accessing elements in a dictionary.\n",
        "    - Accessing an element in a dictionary in Python is very efficient because dictionaries use hash tables for storage.\n",
        "\n",
        "     Time Complexity of Access Operations:\n",
        "     * Lookup (dict[key]): The hash function computes a memory location instantly. Complexity-  O(1) (average case).\n",
        "     *Insertion (dict[key] = value): The new key-value pair is placed efficiently using hashing. Complexity-  O(1) (average case).\n",
        "     * Deletion (del dict[key]): The key is removed directly without scanning all elements. Complexity-  O(1) (average case).     \n",
        "\n",
        "     Why Is Dictionary Lookup Fast?\n",
        "     * Uses hashing: Python computes a unique index for each key.\n",
        "     * Direct access: No need to scan all elements like in a list (O(n)).\n",
        "     * Optimized storage: Collisions are handled, but they remain rare.\n",
        "\n",
        "     When Can Lookup Be Slower (O(n))?\n",
        "     * If too many collisions occur, dictionary performance may degrade.\n",
        "     * When using non-hashable keys, Python may need extra processing.\n",
        "\n",
        "\n",
        "18. In what situations are lists preferred over dictionaries?\n",
        "    - Lists are preferred over dictionaries when you need to store ordered collections and work with sequential data.\n",
        "\n",
        "     some key situations where lists are a better choice:\n",
        "     * Maintaining Order- Lists preserve insertion order, making them ideal for tasks where the sequence of elements matters.     \n",
        "     *  Iterating Over Elements- Lists are more efficient for simple loops when working with sequences.\n",
        "     * Storing Duplicate Values- Lists allow duplicates, which is useful when tracking repeated data.\n",
        "     * When Fast Key-Based Access Isn't Needed- If you don't require fast lookups, a list is simpler than a dictionary.\n",
        "     * When You Need Indexing- Lists provide direct index-based access (list[i]), which dictionaries do not.\n",
        "\n",
        "\n",
        "19. Why are dictionaries considered unordered, and how does that affect data retrieval?\n",
        "    - Dictionaries in Python are considered unordered because their internal storage does not follow a sequential order like lists or tuples. Instead, dictionaries use hash tables to store key-value pairs, meaning items are placed based on their hash values rather than insertion order.     \n",
        "\n",
        "     Impact on Data Retrieval:\n",
        "     * Fast Lookups (O(1) complexity): Since dictionaries use hashing, they allow direct access to values without scanning all elements.\n",
        "     * Keys, Not Order, Matter: Since order is not guaranteed, you must reference keys to retrieve data instead of relying on indices like in lists.\n",
        "     * Iteration Order Considerations: Before Python 3.7, dictionaries did not maintain insertion order, but from Python 3.7 onward, they preserve insertion order when iterating.\n",
        "     \n",
        "     When Does Unordered Behavior Matter?\n",
        "     * Lookups remain efficient, but order-based retrieval (like iterating in expected sequences) should be handled carefully.\n",
        "     * If you need ordered key-value storage, consider using OrderedDict from collections.\n",
        "\n",
        "\n",
        "20. Explain the difference between a list and a dictionary in terms of data retrieval.\n",
        "    - The key difference between lists and dictionaries in terms of data retrieval lies in how data is accessed and stored.\n",
        "\n",
        "     Lists - Indexed Retrieval:\n",
        "     * Data is accessed by position (index).\n",
        "     * Searching requires scanning (O(n)) unless you know the index (O(1)).\n",
        "     * Best for ordered collections where retrieval is based on position.\n",
        "     * Access Type:\tIndex-based (list[index]).\n",
        "     * Lookup Speed: Slower (O(n)) unless indexed (O(1)).\n",
        "     * Structure:\tOrdered sequence.\n",
        "     * Duplicates:\tAllows duplicates.\n",
        "\n",
        "     Dictionaries - Key-Based Retrieval:\n",
        "     * Data is accessed by unique keys, not indexes.\n",
        "     * Lookups are faster (O(1)), thanks to hash tables.\n",
        "     * Best for structured data where retrieval is key-driven.\n",
        "     * Access Type:\tKey based (dict[key]).\n",
        "     * Lookup Speed: Faster (O(1)).\n",
        "     * Structure:\tKey-value pairs.\n",
        "     * Duplicates:\tKeys must be unique."
      ],
      "metadata": {
        "id": "vWjm_GV-75_7"
      }
    },
    {
      "cell_type": "code",
      "execution_count": null,
      "metadata": {
        "colab": {
          "base_uri": "https://localhost:8080/"
        },
        "id": "D2zKMtJhxzL2",
        "outputId": "a78c490b-7c31-4daa-f374-f37f5dad1203"
      },
      "outputs": [
        {
          "output_type": "stream",
          "name": "stdout",
          "text": [
            "Happy Singh\n"
          ]
        },
        {
          "output_type": "execute_result",
          "data": {
            "text/plain": [
              "str"
            ]
          },
          "metadata": {},
          "execution_count": 16
        }
      ],
      "source": [
        "# 1. Write a code to create a string with your name and print it.\n",
        "_s = 'Happy Singh'\n",
        "print(_s)\n",
        "type(_s)"
      ]
    },
    {
      "cell_type": "code",
      "source": [
        "# 2. Write a code to find the length of the string \"Hello World\".\n",
        "_s1 = 'Hello world'\n",
        "len(_s1)"
      ],
      "metadata": {
        "colab": {
          "base_uri": "https://localhost:8080/"
        },
        "id": "VIiIA-5RyRV5",
        "outputId": "fda73df5-7674-4ae5-fd39-0613c4638b67"
      },
      "execution_count": null,
      "outputs": [
        {
          "output_type": "execute_result",
          "data": {
            "text/plain": [
              "11"
            ]
          },
          "metadata": {},
          "execution_count": 17
        }
      ]
    },
    {
      "cell_type": "code",
      "source": [
        "# 3. Write a code to slice the first 3 characters from the string \"Python Programming\".\n",
        "_s2 ='Python Programming'\n",
        "_s2[:3]"
      ],
      "metadata": {
        "colab": {
          "base_uri": "https://localhost:8080/",
          "height": 35
        },
        "id": "dIlFHpB5yl4m",
        "outputId": "b8271091-3d66-44e2-b1a4-e616d64c612f"
      },
      "execution_count": null,
      "outputs": [
        {
          "output_type": "execute_result",
          "data": {
            "text/plain": [
              "'Pyt'"
            ],
            "application/vnd.google.colaboratory.intrinsic+json": {
              "type": "string"
            }
          },
          "metadata": {},
          "execution_count": 18
        }
      ]
    },
    {
      "cell_type": "code",
      "source": [
        "# 4. Write a code to convert the string \"hello\" to uppercase.\n",
        "_s3 = 'hello'\n",
        "_s3.upper()"
      ],
      "metadata": {
        "colab": {
          "base_uri": "https://localhost:8080/",
          "height": 35
        },
        "id": "1gXfaNZHzISv",
        "outputId": "2fa0fd4b-71a4-4830-904b-37ae7bc1b901"
      },
      "execution_count": null,
      "outputs": [
        {
          "output_type": "execute_result",
          "data": {
            "text/plain": [
              "'HELLO'"
            ],
            "application/vnd.google.colaboratory.intrinsic+json": {
              "type": "string"
            }
          },
          "metadata": {},
          "execution_count": 19
        }
      ]
    },
    {
      "cell_type": "code",
      "source": [
        "# 5. Write a code to replace the word \"apple\" with \"orange\" in the string \"I like apple\".\n",
        "_s4 = 'I like apple'\n",
        "_s4.replace('apple', 'orange')"
      ],
      "metadata": {
        "colab": {
          "base_uri": "https://localhost:8080/",
          "height": 35
        },
        "id": "Tiq10Fh90Kng",
        "outputId": "58f438f6-b00d-4e96-afa9-d01bd39d5a85"
      },
      "execution_count": null,
      "outputs": [
        {
          "output_type": "execute_result",
          "data": {
            "text/plain": [
              "'I like orange'"
            ],
            "application/vnd.google.colaboratory.intrinsic+json": {
              "type": "string"
            }
          },
          "metadata": {},
          "execution_count": 20
        }
      ]
    },
    {
      "cell_type": "code",
      "source": [
        "# 6. Write a code to create a list with numbers 1 to 5 and print it.\n",
        "_l1 = [1,2,3,4,5]\n",
        "print(_l1)\n",
        "type(_l1)"
      ],
      "metadata": {
        "colab": {
          "base_uri": "https://localhost:8080/"
        },
        "id": "HyMGcDrm0oio",
        "outputId": "67b6617b-c298-4e43-dad7-8a141fb08d89"
      },
      "execution_count": null,
      "outputs": [
        {
          "output_type": "stream",
          "name": "stdout",
          "text": [
            "[1, 2, 3, 4, 5]\n"
          ]
        },
        {
          "output_type": "execute_result",
          "data": {
            "text/plain": [
              "list"
            ]
          },
          "metadata": {},
          "execution_count": 34
        }
      ]
    },
    {
      "cell_type": "code",
      "source": [
        "# 7. Write a code to append the number 10 to the list [1, 2, 3, 4].\n",
        "_l2 = [1,2,3,4]\n",
        "_l2.append(10)\n",
        "_l2"
      ],
      "metadata": {
        "colab": {
          "base_uri": "https://localhost:8080/"
        },
        "id": "D3ppGGc31Hdi",
        "outputId": "99deca52-5b60-4d5c-f0da-6dba13db50bf"
      },
      "execution_count": null,
      "outputs": [
        {
          "output_type": "execute_result",
          "data": {
            "text/plain": [
              "[1, 2, 3, 4, 10]"
            ]
          },
          "metadata": {},
          "execution_count": 22
        }
      ]
    },
    {
      "cell_type": "code",
      "source": [
        "# 8. Write a code to remove the number 3 from the list [1, 2, 3, 4, 5].\n",
        "_l4 = [1,2,3,4,5]\n",
        "_l4.remove(3)\n",
        "_l4"
      ],
      "metadata": {
        "colab": {
          "base_uri": "https://localhost:8080/"
        },
        "id": "K7P1_wQ41ozf",
        "outputId": "d9ae83d8-bce5-4253-e416-015f4e308d9b"
      },
      "execution_count": null,
      "outputs": [
        {
          "output_type": "execute_result",
          "data": {
            "text/plain": [
              "[1, 2, 4, 5]"
            ]
          },
          "metadata": {},
          "execution_count": 23
        }
      ]
    },
    {
      "cell_type": "code",
      "source": [
        "# 9. Write a code to access the second element in the list ['a', 'b', 'c', 'd'].\n",
        "_l5 = ['a','b','c','d']\n",
        "_l5[1]"
      ],
      "metadata": {
        "colab": {
          "base_uri": "https://localhost:8080/",
          "height": 35
        },
        "id": "zkL4evMT2nsh",
        "outputId": "10011982-457e-4d88-9980-0495b4911583"
      },
      "execution_count": null,
      "outputs": [
        {
          "output_type": "execute_result",
          "data": {
            "text/plain": [
              "'b'"
            ],
            "application/vnd.google.colaboratory.intrinsic+json": {
              "type": "string"
            }
          },
          "metadata": {},
          "execution_count": 25
        }
      ]
    },
    {
      "cell_type": "code",
      "source": [
        "# 10. Write a code to reverse the list [10, 20, 30, 40, 50].\n",
        "_l6 = [10, 20, 30, 40, 50]\n",
        "_l6[::-1]"
      ],
      "metadata": {
        "colab": {
          "base_uri": "https://localhost:8080/"
        },
        "id": "W-zjJAB63bsY",
        "outputId": "21affe8e-71a3-4c23-984b-e2ed9dea4b7c"
      },
      "execution_count": null,
      "outputs": [
        {
          "output_type": "execute_result",
          "data": {
            "text/plain": [
              "[50, 40, 30, 20, 10]"
            ]
          },
          "metadata": {},
          "execution_count": 26
        }
      ]
    },
    {
      "cell_type": "code",
      "source": [
        "# 11. Write a code to create a tuple with the elements 100, 200, 300 and print it.\n",
        "_t1 = (100,200,300)\n",
        "_t1\n",
        "type(_t1)"
      ],
      "metadata": {
        "colab": {
          "base_uri": "https://localhost:8080/"
        },
        "id": "z2Pdr6UC8cKl",
        "outputId": "2c1b89c0-a60f-40f9-b1d6-3c85aa3183ef"
      },
      "execution_count": null,
      "outputs": [
        {
          "output_type": "execute_result",
          "data": {
            "text/plain": [
              "tuple"
            ]
          },
          "metadata": {},
          "execution_count": 28
        }
      ]
    },
    {
      "cell_type": "code",
      "source": [
        "# 12. Write a code to access the second-to-last element of the tuple ('red', 'green', 'blue', 'yellow').\n",
        "_t2 = ('red', 'green', 'blue', 'yellow')\n",
        "_t2[1:4]"
      ],
      "metadata": {
        "colab": {
          "base_uri": "https://localhost:8080/"
        },
        "id": "sUYYUVaa9QjH",
        "outputId": "625c8ce5-26b7-4ebb-994b-bb44cfa8ffe2"
      },
      "execution_count": null,
      "outputs": [
        {
          "output_type": "execute_result",
          "data": {
            "text/plain": [
              "('green', 'blue', 'yellow')"
            ]
          },
          "metadata": {},
          "execution_count": 35
        }
      ]
    },
    {
      "cell_type": "code",
      "source": [
        "# 13. Write a code to find the minimum number in the tuple (10, 20, 5, 15).\n",
        "_t3 = (10, 20, 5, 15)\n",
        "min_value = min(_t3)\n",
        "print(min_value)"
      ],
      "metadata": {
        "colab": {
          "base_uri": "https://localhost:8080/"
        },
        "id": "M0eyqLAD-GQU",
        "outputId": "1b6f779b-50ba-4ac2-9aad-bec64798a10a"
      },
      "execution_count": null,
      "outputs": [
        {
          "output_type": "stream",
          "name": "stdout",
          "text": [
            "5\n"
          ]
        }
      ]
    },
    {
      "cell_type": "code",
      "source": [
        "# 14. Write a code to find the index of the element \"cat\" in the tuple ('dog', 'cat', 'rabbit').\n",
        "_t4 = ('dog', 'cat', 'rabbit')\n",
        "_t4.index('cat')"
      ],
      "metadata": {
        "colab": {
          "base_uri": "https://localhost:8080/"
        },
        "id": "6oeMHlh4AZIV",
        "outputId": "fd5f5a82-45a2-489a-edd2-e053ee502835"
      },
      "execution_count": null,
      "outputs": [
        {
          "output_type": "execute_result",
          "data": {
            "text/plain": [
              "1"
            ]
          },
          "metadata": {},
          "execution_count": 47
        }
      ]
    },
    {
      "cell_type": "code",
      "source": [
        "# 15. Write a code to create a tuple containing three different fruits and check if \"kiwi\" is in it.\n",
        "_t5 = ('apple','banana','kiwi')\n",
        "#_t5 = ('apple','banana','orange')\n",
        "if 'kiwi' in _t5:\n",
        "    print(\"True\")\n",
        "else:\n",
        "    print(\"false\")"
      ],
      "metadata": {
        "colab": {
          "base_uri": "https://localhost:8080/"
        },
        "id": "s9n4HPk3A1Cx",
        "outputId": "e940cb28-34a8-4b37-90e9-dfd4508342ee"
      },
      "execution_count": null,
      "outputs": [
        {
          "output_type": "stream",
          "name": "stdout",
          "text": [
            "True\n"
          ]
        }
      ]
    },
    {
      "cell_type": "code",
      "source": [
        "# 16. Write a code to create a set with the elements 'a', 'b', 'c' and print it.\n",
        "_st1 = {'a','b','c'}\n",
        "print(_st1)\n",
        "type(_st1)"
      ],
      "metadata": {
        "colab": {
          "base_uri": "https://localhost:8080/"
        },
        "id": "Sd3bRWrwPDkp",
        "outputId": "4d8f0e93-090e-4163-f59a-0b6b15d87bb1"
      },
      "execution_count": null,
      "outputs": [
        {
          "output_type": "stream",
          "name": "stdout",
          "text": [
            "{'a', 'c', 'b'}\n"
          ]
        },
        {
          "output_type": "execute_result",
          "data": {
            "text/plain": [
              "set"
            ]
          },
          "metadata": {},
          "execution_count": 81
        }
      ]
    },
    {
      "cell_type": "code",
      "source": [
        "# 17. Write a code to clear all elements from the set {1, 2, 3, 4, 5}.\n",
        "_st2 = {1, 2, 3, 4, 5}\n",
        "print(_st2)\n",
        "_st2.clear()\n",
        "print(_st2)"
      ],
      "metadata": {
        "colab": {
          "base_uri": "https://localhost:8080/"
        },
        "id": "S3m_pInQPtcP",
        "outputId": "df1ab776-e689-4003-daa3-d2c9da6de89b"
      },
      "execution_count": null,
      "outputs": [
        {
          "output_type": "stream",
          "name": "stdout",
          "text": [
            "{1, 2, 3, 4, 5}\n",
            "set()\n"
          ]
        }
      ]
    },
    {
      "cell_type": "code",
      "source": [
        "# 18. Write a code to remove the element 4 from the set {1, 2, 3, 4}.\n",
        "_st3 = {1, 2, 3, 4}\n",
        "print(_st3)\n",
        "_st3.remove(4)\n",
        "print(_st3)"
      ],
      "metadata": {
        "colab": {
          "base_uri": "https://localhost:8080/"
        },
        "id": "KAKQppf_Q3NZ",
        "outputId": "41e5c81b-e721-478b-9f04-103ea0d9a994"
      },
      "execution_count": null,
      "outputs": [
        {
          "output_type": "stream",
          "name": "stdout",
          "text": [
            "{1, 2, 3, 4}\n",
            "{1, 2, 3}\n"
          ]
        }
      ]
    },
    {
      "cell_type": "code",
      "source": [
        "# 19. Write a code to find the union of two sets {1, 2, 3} and {3, 4, 5}.\n",
        "_st4 = {1, 2, 3}\n",
        "_st5 = {3, 4, 5}\n",
        "_st4 | _st5"
      ],
      "metadata": {
        "colab": {
          "base_uri": "https://localhost:8080/"
        },
        "id": "imHIGw-IRTiv",
        "outputId": "512658d8-39d9-4ee0-d72c-c02126367600"
      },
      "execution_count": null,
      "outputs": [
        {
          "output_type": "execute_result",
          "data": {
            "text/plain": [
              "{1, 2, 3, 4, 5}"
            ]
          },
          "metadata": {},
          "execution_count": 85
        }
      ]
    },
    {
      "cell_type": "code",
      "source": [
        "# 20. Write a code to find the intersection of two sets {1, 2, 3} and {2, 3, 4}.\n",
        "_st6 = {1, 2, 3}\n",
        "_st7 = {2, 3, 4}\n",
        "_st6 & _st7"
      ],
      "metadata": {
        "colab": {
          "base_uri": "https://localhost:8080/"
        },
        "id": "NjLUU2aRR7L0",
        "outputId": "a4f03a87-c24b-48e5-e55a-fea9d260c562"
      },
      "execution_count": null,
      "outputs": [
        {
          "output_type": "execute_result",
          "data": {
            "text/plain": [
              "{2, 3}"
            ]
          },
          "metadata": {},
          "execution_count": 86
        }
      ]
    },
    {
      "cell_type": "code",
      "source": [
        "# 21. Write a code to create a dictionary with the keys \"name\", \"age\", and \"city\", and print it.\n",
        "#_dict1 = {'name':'' ,'age':'','city':''} # if only keys are printed\n",
        "_dict1 = {'name':'Happy Singh' ,'age':'22','city':'Gurugram'}\n",
        "_dict1"
      ],
      "metadata": {
        "colab": {
          "base_uri": "https://localhost:8080/"
        },
        "id": "UahMvyv2SVky",
        "outputId": "edfee75e-14c3-4444-c891-09d8ca55b189"
      },
      "execution_count": null,
      "outputs": [
        {
          "output_type": "execute_result",
          "data": {
            "text/plain": [
              "{'name': 'Happy Singh', 'age': '22', 'city': 'Gurugram'}"
            ]
          },
          "metadata": {},
          "execution_count": 89
        }
      ]
    },
    {
      "cell_type": "code",
      "source": [
        "# 22. Write a code to add a new key-value pair \"country\": \"USA\" to the dictionary {'name': 'John', 'age': 25}.\n",
        "_dict2 = {'name':'John' ,'age':'25'}\n",
        "print(_dict2)\n",
        "_dict2['country'] = 'USA'\n",
        "print(_dict2)"
      ],
      "metadata": {
        "colab": {
          "base_uri": "https://localhost:8080/"
        },
        "id": "WfPqJyN0ULvH",
        "outputId": "e88cb1c9-7adb-48ec-ebd5-dd32ab6a926f"
      },
      "execution_count": null,
      "outputs": [
        {
          "output_type": "stream",
          "name": "stdout",
          "text": [
            "{'name': 'John', 'age': '25'}\n",
            "{'name': 'John', 'age': '25', 'country': 'USA'}\n"
          ]
        }
      ]
    },
    {
      "cell_type": "code",
      "source": [
        "# 23. Write a code to access the value associated with the key \"name\" in the dictionary {'name': 'Alice', 'age': 30}.\n",
        "_dict3 = {'name': 'Alice', 'age': 30}\n",
        "_dict3['name']"
      ],
      "metadata": {
        "colab": {
          "base_uri": "https://localhost:8080/",
          "height": 35
        },
        "id": "Y5eww0UQU_RM",
        "outputId": "a099e6e7-fe83-4c53-fd88-870bb6ddabc0"
      },
      "execution_count": null,
      "outputs": [
        {
          "output_type": "execute_result",
          "data": {
            "text/plain": [
              "'Alice'"
            ],
            "application/vnd.google.colaboratory.intrinsic+json": {
              "type": "string"
            }
          },
          "metadata": {},
          "execution_count": 91
        }
      ]
    },
    {
      "cell_type": "code",
      "source": [
        "from os import remove\n",
        "# 24. Write a code to remove the key \"age\" from the dictionary {'name': 'Bob', 'age': 22, 'city': 'New York'}.\n",
        "_dict4 = {'name': 'Bob', 'age': 22, 'city': 'New York'}\n",
        "print(_dict4)\n",
        "_dict4.pop('age')\n",
        "print(_dict4)"
      ],
      "metadata": {
        "colab": {
          "base_uri": "https://localhost:8080/"
        },
        "id": "4RHibuSuVdtw",
        "outputId": "53635db9-9558-4d2a-f6b5-8e90afac5d1f"
      },
      "execution_count": null,
      "outputs": [
        {
          "output_type": "stream",
          "name": "stdout",
          "text": [
            "{'name': 'Bob', 'age': 22, 'city': 'New York'}\n",
            "{'name': 'Bob', 'city': 'New York'}\n"
          ]
        }
      ]
    },
    {
      "cell_type": "code",
      "source": [
        "# 25. Write a code to check if the key \"city\" exists in the dictionary {'name': 'Alice', 'city': 'Paris'}.\n",
        "_dict5 = {'name': 'Alice', 'city': 'Paris'}\n",
        "#_dict5 = {'name': 'Alice'}  #for checking code is correct or not.\n",
        "if 'city' in _dict5:\n",
        "  print(\"True\")\n",
        "else:\n",
        "  print(\"False\")"
      ],
      "metadata": {
        "colab": {
          "base_uri": "https://localhost:8080/"
        },
        "id": "cAkhaaJqwkDN",
        "outputId": "d2d0f6b3-e34a-42ef-b611-3557cdffa81e"
      },
      "execution_count": null,
      "outputs": [
        {
          "output_type": "stream",
          "name": "stdout",
          "text": [
            "True\n"
          ]
        }
      ]
    },
    {
      "cell_type": "code",
      "source": [
        "# 26. Write a code to create a list, a tuple, and a dictionary, and print them all.\n",
        "_dictionary = {'name':'Happy Singh' ,'age':'22','city':'Gurugram','course':'data science'}\n",
        "_tuple = (10, 20.5,'cat','3+7j')\n",
        "_list = [10, 20.5,'cat','3+7j']\n",
        "print(_tuple)\n",
        "print(type(_tuple))\n",
        "print(_dictionary)\n",
        "print(type(_dictionary))\n",
        "print(_list)\n",
        "print(type(_list))"
      ],
      "metadata": {
        "colab": {
          "base_uri": "https://localhost:8080/"
        },
        "id": "1j3Hpxn6xvQZ",
        "outputId": "14371534-ff31-4195-b828-558d208d9e1b"
      },
      "execution_count": null,
      "outputs": [
        {
          "output_type": "stream",
          "name": "stdout",
          "text": [
            "(10, 20.5, 'cat', '3+7j')\n",
            "<class 'tuple'>\n",
            "{'name': 'Happy Singh', 'age': '22', 'city': 'Gurugram', 'course': 'data science'}\n",
            "<class 'dict'>\n",
            "[10, 20.5, 'cat', '3+7j']\n",
            "<class 'list'>\n"
          ]
        }
      ]
    },
    {
      "cell_type": "code",
      "source": [
        "# 27.  Write a code to create a list of 5 random numbers between 1 and 100, sort it in ascending order, and print the result.(replaced)\n",
        "ran_num = [21,47,99,7,76]\n",
        "result = sorted(ran_num)\n",
        "print(result)"
      ],
      "metadata": {
        "colab": {
          "base_uri": "https://localhost:8080/"
        },
        "id": "WXGnICEwz_Yg",
        "outputId": "5e8e815b-4889-4ba7-8962-0ea06877c56e"
      },
      "execution_count": null,
      "outputs": [
        {
          "output_type": "stream",
          "name": "stdout",
          "text": [
            "[7, 21, 47, 76, 99]\n"
          ]
        }
      ]
    },
    {
      "cell_type": "code",
      "source": [
        "# 28. Write a code to create a list with strings and print the element at the third index.\n",
        "list_str = ['Happy','singh','gurugram','age','course']\n",
        "list_str[3]"
      ],
      "metadata": {
        "colab": {
          "base_uri": "https://localhost:8080/",
          "height": 35
        },
        "id": "lckPj1xz10Ij",
        "outputId": "8fab6392-0d4b-44ff-987f-2f13b218157a"
      },
      "execution_count": null,
      "outputs": [
        {
          "output_type": "execute_result",
          "data": {
            "text/plain": [
              "'age'"
            ],
            "application/vnd.google.colaboratory.intrinsic+json": {
              "type": "string"
            }
          },
          "metadata": {},
          "execution_count": 10
        }
      ]
    },
    {
      "cell_type": "code",
      "source": [
        "# 29. Write a code to combine two dictionaries into one and print the result\n",
        "dict_name = {'name':'happy'}\n",
        "dict_age = {'age':22}\n",
        "dict_name.update(dict_age)\n",
        "dict_name"
      ],
      "metadata": {
        "colab": {
          "base_uri": "https://localhost:8080/"
        },
        "id": "pMRDf5zT3CHN",
        "outputId": "6dc9ecfc-fe7d-4fad-d0bb-eb842e0784e1"
      },
      "execution_count": null,
      "outputs": [
        {
          "output_type": "execute_result",
          "data": {
            "text/plain": [
              "{'name': 'happy', 'age': 22}"
            ]
          },
          "metadata": {},
          "execution_count": 14
        }
      ]
    },
    {
      "cell_type": "code",
      "source": [
        "# 30. Write a code to convert a list of strings into a set.\n",
        "list_str1 = ['Happy','age','course','age','course']\n",
        "set_list = set(list_str1)\n",
        "set_list"
      ],
      "metadata": {
        "colab": {
          "base_uri": "https://localhost:8080/"
        },
        "id": "34cTiE1g-jHq",
        "outputId": "012df8c9-9bb1-471c-8de3-16a7e23c1e86"
      },
      "execution_count": null,
      "outputs": [
        {
          "output_type": "execute_result",
          "data": {
            "text/plain": [
              "{'Happy', 'age', 'course'}"
            ]
          },
          "metadata": {},
          "execution_count": 15
        }
      ]
    }
  ]
}